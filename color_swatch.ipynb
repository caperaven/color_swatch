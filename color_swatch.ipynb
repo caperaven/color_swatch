{
  "nbformat": 4,
  "nbformat_minor": 0,
  "metadata": {
    "colab": {
      "provenance": [],
      "authorship_tag": "ABX9TyOcS5l28GsL9Bvf9O2vwnSt",
      "include_colab_link": true
    },
    "kernelspec": {
      "name": "python3",
      "display_name": "Python 3"
    },
    "language_info": {
      "name": "python"
    }
  },
  "cells": [
    {
      "cell_type": "markdown",
      "metadata": {
        "id": "view-in-github",
        "colab_type": "text"
      },
      "source": [
        "<a href=\"https://colab.research.google.com/github/caperaven/color_swatch/blob/main/color_swatch.ipynb\" target=\"_parent\"><img src=\"https://colab.research.google.com/assets/colab-badge.svg\" alt=\"Open In Colab\"/></a>"
      ]
    },
    {
      "cell_type": "markdown",
      "source": [
        "# Color Swatch\n",
        "\n",
        "This is a model that works with color swatches.\n",
        "Based on a user input the swatch is generated including light and dark colors and gradiens between\n",
        "\n",
        "\n",
        "https://huggingface.co/docs/transformers/index"
      ],
      "metadata": {
        "id": "RcFR7Feb49ey"
      }
    },
    {
      "cell_type": "code",
      "execution_count": null,
      "metadata": {
        "id": "EnC5-SNg45Ba"
      },
      "outputs": [],
      "source": [
        "!pip install transformers"
      ]
    }
  ]
}